{
 "cells": [
  {
   "cell_type": "markdown",
   "metadata": {},
   "source": [
    "# The best place for the Spiritual Development Center in Toronto "
   ]
  },
  {
   "cell_type": "markdown",
   "metadata": {},
   "source": [
    "## Introduction/Business Problem "
   ]
  },
  {
   "cell_type": "markdown",
   "metadata": {},
   "source": [
    "My client devoted to the problem of spiritual growth and personal development is interested to open the Spiritual Development Center in Toronto. She believes that the Center should be situated in the area popular within active people, involved in sport and a healthy lifestyle.  She also thinks that restaurants and coffee shops might negatively affect the spiritual growth of her future students. \n",
    "My client asks to analyze the Toronto venues and find neighborhoods that fit her aims.  "
   ]
  }
 ],
 "metadata": {
  "kernelspec": {
   "display_name": "Python",
   "language": "python",
   "name": "conda-env-python-py"
  },
  "language_info": {
   "codemirror_mode": {
    "name": "ipython",
    "version": 3
   },
   "file_extension": ".py",
   "mimetype": "text/x-python",
   "name": "python",
   "nbconvert_exporter": "python",
   "pygments_lexer": "ipython3",
   "version": "3.6.7"
  }
 },
 "nbformat": 4,
 "nbformat_minor": 4
}
