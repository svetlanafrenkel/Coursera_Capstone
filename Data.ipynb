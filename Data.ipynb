{
 "cells": [
  {
   "cell_type": "markdown",
   "metadata": {},
   "source": [
    "# The best place for the Spiritual Development Center in Toronto "
   ]
  },
  {
   "cell_type": "markdown",
   "metadata": {},
   "source": [
    "## Data"
   ]
  },
  {
   "cell_type": "markdown",
   "metadata": {},
   "source": [
    "To understand which neighborhood fit my client's need the most, I use Foursquare location data of Toronto venues. The venues are assigned for three categories only: \"Food providers\", \"Health providers\" and \"Indifferent\" venues. The \"Food providers\" category contains all restaurants, Cafe and Coffee shops. The \"Health providers\" are active sport centers, gyms, parks and trails as well sporting goods shops and smoothie places. All other venues are assigned to the \"Indifferent\" category.    "
   ]
  }
 ],
 "metadata": {
  "kernelspec": {
   "display_name": "Python",
   "language": "python",
   "name": "conda-env-python-py"
  },
  "language_info": {
   "codemirror_mode": {
    "name": "ipython",
    "version": 3
   },
   "file_extension": ".py",
   "mimetype": "text/x-python",
   "name": "python",
   "nbconvert_exporter": "python",
   "pygments_lexer": "ipython3",
   "version": "3.6.7"
  }
 },
 "nbformat": 4,
 "nbformat_minor": 4
}
